{
 "cells": [
  {
   "cell_type": "markdown",
   "id": "65d5d95f-7a1c-41a9-ba1d-f19c2b5ccd2c",
   "metadata": {},
   "source": [
    "# Choices"
   ]
  },
  {
   "cell_type": "code",
   "execution_count": 7,
   "id": "09c25b7d-4c91-4774-9e2c-e3ed3978fc2a",
   "metadata": {},
   "outputs": [
    {
     "name": "stdout",
     "output_type": "stream",
     "text": [
      "Not greater than 100\n",
      "Done\n"
     ]
    }
   ],
   "source": [
    "num = 37\n",
    "if num > 100:\n",
    "    print(\"Greater than 100\")\n",
    "else: print(\"Not greater than 100\")\n",
    "print(\"Done\")"
   ]
  },
  {
   "cell_type": "code",
   "execution_count": 8,
   "id": "9c0dc799-3506-4915-8c24-dbc1de898dbc",
   "metadata": {},
   "outputs": [
    {
     "name": "stdout",
     "output_type": "stream",
     "text": [
      "Not greater than 100\n",
      "Done\n"
     ]
    }
   ],
   "source": [
    "num = 100\n",
    "if num > 100:\n",
    "    print(\"Greater than 100\")\n",
    "else: print(\"Not greater than 100\")\n",
    "print(\"Done\")"
   ]
  },
  {
   "cell_type": "code",
   "execution_count": 9,
   "id": "17afaede-fe6d-4bd1-8a32-9c38e6a42830",
   "metadata": {},
   "outputs": [
    {
     "data": {
      "text/plain": [
       "False"
      ]
     },
     "execution_count": 9,
     "metadata": {},
     "output_type": "execute_result"
    }
   ],
   "source": [
    "1>2"
   ]
  },
  {
   "cell_type": "code",
   "execution_count": 10,
   "id": "8c61446c-32f0-4b16-9d83-d0ab0e3d2f32",
   "metadata": {},
   "outputs": [
    {
     "data": {
      "text/plain": [
       "True"
      ]
     },
     "execution_count": 10,
     "metadata": {},
     "output_type": "execute_result"
    }
   ],
   "source": [
    "2>0"
   ]
  },
  {
   "cell_type": "code",
   "execution_count": 11,
   "id": "a664e474-e5ba-48ce-a4b9-0fc0690f8250",
   "metadata": {},
   "outputs": [
    {
     "data": {
      "text/plain": [
       "True"
      ]
     },
     "execution_count": 11,
     "metadata": {},
     "output_type": "execute_result"
    }
   ],
   "source": [
    "5<=5"
   ]
  },
  {
   "cell_type": "code",
   "execution_count": 12,
   "id": "83d18d03-d557-4f76-a7eb-87420dc8b98d",
   "metadata": {},
   "outputs": [
    {
     "data": {
      "text/plain": [
       "True"
      ]
     },
     "execution_count": 12,
     "metadata": {},
     "output_type": "execute_result"
    }
   ],
   "source": [
    "6 >= 5"
   ]
  },
  {
   "cell_type": "code",
   "execution_count": 31,
   "id": "46dcfd6d-5d88-426c-8bc3-b29ef3be560c",
   "metadata": {},
   "outputs": [
    {
     "data": {
      "text/plain": [
       "False"
      ]
     },
     "execution_count": 31,
     "metadata": {},
     "output_type": "execute_result"
    }
   ],
   "source": [
    "name = \"WCuriefsbgdxb\"\n",
    "second_name = \"Turing\"\n",
    "name == second_name"
   ]
  },
  {
   "cell_type": "code",
   "execution_count": 32,
   "id": "16945b77-2b32-46a8-a3c8-efbb65c070e0",
   "metadata": {},
   "outputs": [
    {
     "data": {
      "text/plain": [
       "False"
      ]
     },
     "execution_count": 32,
     "metadata": {},
     "output_type": "execute_result"
    }
   ],
   "source": [
    "name <= second_name #why? "
   ]
  },
  {
   "cell_type": "code",
   "execution_count": 23,
   "id": "1e0bbd73-1c9b-4d6d-8a7f-0e142ad8450a",
   "metadata": {},
   "outputs": [
    {
     "data": {
      "text/plain": [
       "True"
      ]
     },
     "execution_count": 23,
     "metadata": {},
     "output_type": "execute_result"
    }
   ],
   "source": [
    "name != second_name"
   ]
  },
  {
   "cell_type": "code",
   "execution_count": 29,
   "id": "1fe4731d-2541-48b0-a170-aa3190bd1d65",
   "metadata": {},
   "outputs": [
    {
     "name": "stdout",
     "output_type": "stream",
     "text": [
      "at least one test is true\n"
     ]
    }
   ],
   "source": [
    "if (1<0) or (1>=0):\n",
    "    print(\"at least one test is true\")"
   ]
  },
  {
   "cell_type": "code",
   "execution_count": 30,
   "id": "c3973eb9-b257-4d7a-968b-6858f7efc01d",
   "metadata": {},
   "outputs": [],
   "source": [
    "import numpy as np"
   ]
  },
  {
   "cell_type": "code",
   "execution_count": 36,
   "id": "02439248-c97f-4034-b364-5d5e0b322cae",
   "metadata": {},
   "outputs": [],
   "source": [
    "data = np.loadtxt(\"data/inflammation-01.csv\", delimiter=\",\")"
   ]
  },
  {
   "cell_type": "code",
   "execution_count": 37,
   "id": "e948bd85-ae05-42ca-b9ef-d2a0a974d9c7",
   "metadata": {},
   "outputs": [
    {
     "name": "stdout",
     "output_type": "stream",
     "text": [
      "Suspicious looking maxima!\n"
     ]
    }
   ],
   "source": [
    "max_inflammation_0 = data.max(axis=0)[0]\n",
    "max_inflammation_20 = data.max(axis=0)[20]\n",
    "\n",
    "if max_inflammation_0 == 0 and max_inflammation_20 == 20:\n",
    "    print(\"Suspicious looking maxima!\")"
   ]
  },
  {
   "cell_type": "code",
   "execution_count": 38,
   "id": "7d1aaf63-2064-45ba-b53d-d7ae5bb67b62",
   "metadata": {},
   "outputs": [
    {
     "name": "stdout",
     "output_type": "stream",
     "text": [
      "Suspicious looking maxima!\n"
     ]
    }
   ],
   "source": [
    "if max_inflammation_0 == 0 and max_inflammation_20 == 20:\n",
    "    print(\"Suspicious looking maxima!\")\n",
    "elif data.min(axis=0).sum(0) == 0:\n",
    "    print(\"minima add up to zero!\")\n",
    "else: \n",
    "    print(\"seem okay!\")\n",
    "    "
   ]
  },
  {
   "cell_type": "code",
   "execution_count": null,
   "id": "32fa5579-0436-4e50-b653-d558ca01b867",
   "metadata": {},
   "outputs": [],
   "source": []
  },
  {
   "cell_type": "code",
   "execution_count": null,
   "id": "10b76aee-ae8c-4c90-887d-ba8b438e6070",
   "metadata": {},
   "outputs": [],
   "source": []
  }
 ],
 "metadata": {
  "kernelspec": {
   "display_name": "Python 3 (ipykernel)",
   "language": "python",
   "name": "python3"
  },
  "language_info": {
   "codemirror_mode": {
    "name": "ipython",
    "version": 3
   },
   "file_extension": ".py",
   "mimetype": "text/x-python",
   "name": "python",
   "nbconvert_exporter": "python",
   "pygments_lexer": "ipython3",
   "version": "3.9.12"
  }
 },
 "nbformat": 4,
 "nbformat_minor": 5
}
