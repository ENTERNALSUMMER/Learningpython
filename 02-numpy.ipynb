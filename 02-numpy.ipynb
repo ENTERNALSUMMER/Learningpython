{
 "cells": [
  {
   "cell_type": "markdown",
   "id": "8213a41b-864a-43fc-bf15-bdfef9dcb583",
   "metadata": {},
   "source": [
    "# Libraries for scientific research"
   ]
  },
  {
   "cell_type": "code",
   "execution_count": 1,
   "id": "0b868e4d-ac45-4b7b-94de-a0d1ba06cc46",
   "metadata": {},
   "outputs": [],
   "source": [
    "import numpy"
   ]
  },
  {
   "cell_type": "code",
   "execution_count": 3,
   "id": "ff91c4e4-061d-4ba3-836e-60a6b50ad1b9",
   "metadata": {},
   "outputs": [
    {
     "data": {
      "text/plain": [
       "array([[0., 0., 1., ..., 3., 0., 0.],\n",
       "       [0., 1., 2., ..., 1., 0., 1.],\n",
       "       [0., 1., 1., ..., 2., 1., 1.],\n",
       "       ...,\n",
       "       [0., 1., 1., ..., 1., 1., 1.],\n",
       "       [0., 0., 0., ..., 0., 2., 0.],\n",
       "       [0., 0., 1., ..., 1., 1., 0.]])"
      ]
     },
     "execution_count": 3,
     "metadata": {},
     "output_type": "execute_result"
    }
   ],
   "source": [
    "numpy.loadtxt(fname='data/inflammation-01.csv', delimiter=',')"
   ]
  },
  {
   "cell_type": "code",
   "execution_count": 4,
   "id": "76410c68-1bbf-4998-b282-f6c8f08ac378",
   "metadata": {},
   "outputs": [],
   "source": [
    "arthritis = numpy.loadtxt(fname='data/inflammation-01.csv', delimiter=',')"
   ]
  },
  {
   "cell_type": "code",
   "execution_count": 5,
   "id": "2f9735a2-9f6c-448b-8896-fcbe68d6a1bd",
   "metadata": {},
   "outputs": [
    {
     "name": "stdout",
     "output_type": "stream",
     "text": [
      "[[0. 0. 1. ... 3. 0. 0.]\n",
      " [0. 1. 2. ... 1. 0. 1.]\n",
      " [0. 1. 1. ... 2. 1. 1.]\n",
      " ...\n",
      " [0. 1. 1. ... 1. 1. 1.]\n",
      " [0. 0. 0. ... 0. 2. 0.]\n",
      " [0. 0. 1. ... 1. 1. 0.]]\n"
     ]
    }
   ],
   "source": [
    "print(arthritis)"
   ]
  },
  {
   "cell_type": "code",
   "execution_count": 6,
   "id": "1477ab9b-6058-4ef0-8e3f-db75bf27103b",
   "metadata": {},
   "outputs": [
    {
     "name": "stdout",
     "output_type": "stream",
     "text": [
      "<class 'numpy.ndarray'>\n"
     ]
    }
   ],
   "source": [
    "print(type(arthritis))"
   ]
  },
  {
   "cell_type": "markdown",
   "id": "1582cb53-cdf4-47d9-b109-de9c207aa569",
   "metadata": {},
   "source": [
    "## Attributes (adjectives)"
   ]
  },
  {
   "cell_type": "code",
   "execution_count": 7,
   "id": "c9a433ba-7fa5-4f36-9d6a-1b96466d9c10",
   "metadata": {},
   "outputs": [
    {
     "name": "stdout",
     "output_type": "stream",
     "text": [
      "float64\n",
      "(60, 40)\n"
     ]
    }
   ],
   "source": [
    "print(arthritis.dtype)\n",
    "print(arthritis.shape)"
   ]
  },
  {
   "cell_type": "code",
   "execution_count": 8,
   "id": "c6d6dbdd-b993-4e59-8617-5648c320bd6e",
   "metadata": {},
   "outputs": [
    {
     "name": "stdout",
     "output_type": "stream",
     "text": [
      "first value in arthritis: 0.0\n"
     ]
    }
   ],
   "source": [
    "print(\"first value in arthritis:\", arthritis[0,0])"
   ]
  },
  {
   "cell_type": "code",
   "execution_count": 9,
   "id": "3946792a-421a-4378-a600-028271b20e1e",
   "metadata": {},
   "outputs": [
    {
     "name": "stdout",
     "output_type": "stream",
     "text": [
      "middle value in arthritis: 13.0\n"
     ]
    }
   ],
   "source": [
    "print(\"middle value in arthritis:\", arthritis[30,20])"
   ]
  },
  {
   "cell_type": "code",
   "execution_count": 10,
   "id": "554044a6-c86e-4be5-bc04-bc20a06c6cdc",
   "metadata": {},
   "outputs": [
    {
     "name": "stdout",
     "output_type": "stream",
     "text": [
      "[[0. 0. 1. 3. 1. 2. 4. 7. 8. 3.]\n",
      " [0. 1. 2. 1. 2. 1. 3. 2. 2. 6.]\n",
      " [0. 1. 1. 3. 3. 2. 6. 2. 5. 9.]\n",
      " [0. 0. 2. 0. 4. 2. 2. 1. 6. 7.]]\n"
     ]
    }
   ],
   "source": [
    "print(arthritis[0:4,0:10])"
   ]
  },
  {
   "cell_type": "code",
   "execution_count": 11,
   "id": "ae01e862-2682-459c-b777-0641d5fdc75a",
   "metadata": {},
   "outputs": [
    {
     "name": "stdout",
     "output_type": "stream",
     "text": [
      "[[0. 0. 1. 2. 2. 4. 2. 1. 6. 4.]\n",
      " [0. 0. 2. 2. 4. 2. 2. 5. 5. 8.]\n",
      " [0. 0. 1. 2. 3. 1. 2. 3. 5. 3.]\n",
      " [0. 0. 0. 3. 1. 5. 6. 5. 5. 8.]\n",
      " [0. 1. 1. 2. 1. 3. 5. 3. 5. 8.]]\n"
     ]
    }
   ],
   "source": [
    "print(arthritis[5:10,0:10])"
   ]
  },
  {
   "cell_type": "code",
   "execution_count": 15,
   "id": "6232c94f-3e7a-4f78-8649-bd1f8a64fc45",
   "metadata": {},
   "outputs": [
    {
     "name": "stdout",
     "output_type": "stream",
     "text": [
      "[[2. 3. 0. 0.]\n",
      " [1. 1. 0. 1.]\n",
      " [2. 2. 1. 1.]]\n"
     ]
    }
   ],
   "source": [
    "corner = arthritis[:3, 36:]\n",
    "print(corner)"
   ]
  },
  {
   "cell_type": "markdown",
   "id": "94b36509-7dd6-49d1-b989-270288c64a24",
   "metadata": {},
   "source": [
    "## Exercise"
   ]
  },
  {
   "cell_type": "code",
   "execution_count": 16,
   "id": "b9af52e8-3369-4055-8d10-92b117fcfa4c",
   "metadata": {},
   "outputs": [
    {
     "data": {
      "text/plain": [
       "'xy'"
      ]
     },
     "execution_count": 16,
     "metadata": {},
     "output_type": "execute_result"
    }
   ],
   "source": [
    "\"oxygen\"[1:3]"
   ]
  },
  {
   "cell_type": "code",
   "execution_count": 17,
   "id": "379993cf-196a-4aab-9167-3fd44c12f428",
   "metadata": {},
   "outputs": [
    {
     "data": {
      "text/plain": [
       "'xyg'"
      ]
     },
     "execution_count": 17,
     "metadata": {},
     "output_type": "execute_result"
    }
   ],
   "source": [
    "\"oxygen\"[1:4]"
   ]
  },
  {
   "cell_type": "markdown",
   "id": "e3f012bd-90fc-4bb7-bde3-cbd7a56acdea",
   "metadata": {},
   "source": [
    "# Operations"
   ]
  },
  {
   "cell_type": "code",
   "execution_count": 21,
   "id": "2696a8fc-2373-442b-a7c0-7238fb71eca1",
   "metadata": {},
   "outputs": [],
   "source": [
    "double_arthritis = arthritis * 2"
   ]
  },
  {
   "cell_type": "code",
   "execution_count": 22,
   "id": "e8e36c68-fb36-4b7b-a5f8-75bb118e87ea",
   "metadata": {},
   "outputs": [
    {
     "name": "stdout",
     "output_type": "stream",
     "text": [
      "original\n",
      "[[2. 3. 0. 0.]\n",
      " [1. 1. 0. 1.]\n",
      " [2. 2. 1. 1.]]\n",
      "double\n",
      "[[4. 6. 0. 0.]\n",
      " [2. 2. 0. 2.]\n",
      " [4. 4. 2. 2.]]\n"
     ]
    }
   ],
   "source": [
    "print(\"original\")\n",
    "print(arthritis[:3,36:])\n",
    "print(\"double\")\n",
    "print(double_arthritis[:3,36:])"
   ]
  },
  {
   "cell_type": "code",
   "execution_count": 25,
   "id": "53fd2006-40f6-46d0-8706-2778798d2487",
   "metadata": {},
   "outputs": [
    {
     "name": "stdout",
     "output_type": "stream",
     "text": [
      "[[6. 9. 0. 0.]\n",
      " [3. 3. 0. 3.]\n",
      " [6. 6. 3. 3.]]\n"
     ]
    }
   ],
   "source": [
    "triple_arthritis = double_arthritis + arthritis\n",
    "print(triple_arthritis[:3, 36:])"
   ]
  },
  {
   "cell_type": "markdown",
   "id": "4aff440e-bab2-494c-8c79-692a80fad8d5",
   "metadata": {},
   "source": [
    "# Methods(verbs)"
   ]
  },
  {
   "cell_type": "code",
   "execution_count": 26,
   "id": "b084dd7a-d67e-43a5-86a6-05d0f41c13f0",
   "metadata": {},
   "outputs": [
    {
     "name": "stdout",
     "output_type": "stream",
     "text": [
      "6.14875\n"
     ]
    }
   ],
   "source": [
    "print(arthritis.mean())"
   ]
  },
  {
   "cell_type": "code",
   "execution_count": 27,
   "id": "ac56322f-82a4-4394-a44f-7c04685288c9",
   "metadata": {},
   "outputs": [
    {
     "name": "stdout",
     "output_type": "stream",
     "text": [
      "maximum inflammation: 20.0\n",
      "minimum inflammation: 0.0\n",
      "standard deviation: 4.613833197118566\n"
     ]
    }
   ],
   "source": [
    "print(\"maximum inflammation:\", arthritis.max())\n",
    "print(\"minimum inflammation:\", arthritis.min())\n",
    "print(\"standard deviation:\", arthritis.std())"
   ]
  },
  {
   "cell_type": "code",
   "execution_count": 28,
   "id": "9fc060ac-6943-4cb7-a83b-ba85748ca91e",
   "metadata": {},
   "outputs": [
    {
     "data": {
      "text/plain": [
       "2400"
      ]
     },
     "execution_count": 28,
     "metadata": {},
     "output_type": "execute_result"
    }
   ],
   "source": [
    "arthritis.size"
   ]
  },
  {
   "cell_type": "code",
   "execution_count": 29,
   "id": "e365f15e-c9da-40c1-a793-fd01601f34fa",
   "metadata": {},
   "outputs": [
    {
     "name": "stdout",
     "output_type": "stream",
     "text": [
      "maximum inflammation for patient 0 18.0\n"
     ]
    }
   ],
   "source": [
    "patient_0 = arthritis[0,:]\n",
    "print(\"maximum inflammation for patient 0\", patient_0.max())"
   ]
  },
  {
   "cell_type": "code",
   "execution_count": 32,
   "id": "e51cbb6a-0662-413d-86ae-8053d725b00f",
   "metadata": {},
   "outputs": [
    {
     "name": "stdout",
     "output_type": "stream",
     "text": [
      "maximum inflammation for patient 2 19.0\n"
     ]
    }
   ],
   "source": [
    "print(\"maximum inflammation for patient 2\", arthritis[2,:].max())"
   ]
  },
  {
   "cell_type": "code",
   "execution_count": 33,
   "id": "5a3b9186-c9e8-4ed5-8483-0ed7fc058b18",
   "metadata": {},
   "outputs": [
    {
     "name": "stdout",
     "output_type": "stream",
     "text": [
      "[18. 18. 19. 17. 17. 18. 17. 20. 17. 18. 18. 18. 17. 16. 17. 18. 19. 19.\n",
      " 17. 19. 19. 16. 17. 15. 17. 17. 18. 17. 20. 17. 16. 19. 15. 15. 19. 17.\n",
      " 16. 17. 19. 16. 18. 19. 16. 19. 18. 16. 19. 15. 16. 18. 14. 20. 17. 15.\n",
      " 17. 16. 17. 19. 18. 18.]\n"
     ]
    }
   ],
   "source": [
    "print(arthritis.max(axis=1))"
   ]
  },
  {
   "cell_type": "code",
   "execution_count": 43,
   "id": "73d883b7-90e2-457b-9a90-70209af6b396",
   "metadata": {},
   "outputs": [
    {
     "name": "stdout",
     "output_type": "stream",
     "text": [
      "[ 0.  1.  2.  3.  4.  5.  6.  7.  8.  9. 10. 11. 12. 13. 14. 15. 16. 17.\n",
      " 18. 19. 20. 19. 18. 17. 16. 15. 14. 13. 12. 11. 10.  9.  8.  7.  6.  5.\n",
      "  4.  3.  2.  1.]\n"
     ]
    }
   ],
   "source": [
    "print(arthritis.max(axis=0))"
   ]
  },
  {
   "cell_type": "code",
   "execution_count": 44,
   "id": "3423be4c-9340-46bc-a507-543e5a6bfb43",
   "metadata": {},
   "outputs": [
    {
     "name": "stdout",
     "output_type": "stream",
     "text": [
      "(60,)\n",
      "(40,)\n",
      "(60, 40)\n"
     ]
    }
   ],
   "source": [
    "print(arthritis.max(axis=1).shape) #max in one patient row\n",
    "print(arthritis.max(axis=0).shape) #maximum in day colum\n",
    "print(arthritis.shape)"
   ]
  },
  {
   "cell_type": "code",
   "execution_count": 39,
   "id": "531dcfc5-39d3-41d5-b46c-b84af455bd04",
   "metadata": {},
   "outputs": [
    {
     "name": "stdout",
     "output_type": "stream",
     "text": [
      "[3.89839711 4.32369923 4.7581509  4.2708313  4.05555175 4.74071461\n",
      " 4.20409027 5.2179977  4.61349921 5.05958249 5.03233296 4.31972221\n",
      " 4.23961968 4.42012443 4.22780972 4.48441746 4.87314067 4.69680743\n",
      " 4.42464688 5.09386886 4.86049123 3.99929681 4.80045571 4.59782557\n",
      " 4.74447047 4.66308642 5.03959324 4.69301342 4.80045571 5.0593972\n",
      " 4.34101083 4.48079234 4.31849221 4.20230591 5.54701496 4.47765284\n",
      " 4.08281459 4.98773496 4.9415964  4.63546114 4.66094143 4.53865343\n",
      " 4.49555336 4.50444225 4.46514277 3.86902766 5.37348816 4.53072842\n",
      " 4.15301096 4.80097646 3.81575681 4.94873721 4.67379664 4.0895446\n",
      " 5.02487562 4.00749298 4.84639041 4.47660586 4.71142229 4.54312668]\n"
     ]
    }
   ],
   "source": [
    "print(arthritis.std(axis=1))"
   ]
  },
  {
   "cell_type": "code",
   "execution_count": 40,
   "id": "0d0328dd-1ac8-443a-969d-0636565167ae",
   "metadata": {},
   "outputs": [
    {
     "data": {
      "text/plain": [
       "array([ 0.,  1.,  1.,  3.,  3.,  2.,  6.,  2.,  5.,  9.,  5.,  7.,  4.,\n",
       "        5.,  4., 15.,  5., 11.,  9., 10., 19., 14., 12., 17.,  7., 12.,\n",
       "       11.,  7.,  4.,  2., 10.,  5.,  4.,  2.,  2.,  3.,  2.,  2.,  1.,\n",
       "        1.])"
      ]
     },
     "execution_count": 40,
     "metadata": {},
     "output_type": "execute_result"
    }
   ],
   "source": [
    "arthritis[2,:]"
   ]
  },
  {
   "cell_type": "code",
   "execution_count": null,
   "id": "a41f0dae-128d-48d3-914b-4e633cb52eac",
   "metadata": {},
   "outputs": [],
   "source": []
  }
 ],
 "metadata": {
  "kernelspec": {
   "display_name": "Python 3 (ipykernel)",
   "language": "python",
   "name": "python3"
  },
  "language_info": {
   "codemirror_mode": {
    "name": "ipython",
    "version": 3
   },
   "file_extension": ".py",
   "mimetype": "text/x-python",
   "name": "python",
   "nbconvert_exporter": "python",
   "pygments_lexer": "ipython3",
   "version": "3.9.12"
  }
 },
 "nbformat": 4,
 "nbformat_minor": 5
}
