{
 "cells": [
  {
   "cell_type": "markdown",
   "id": "8213a41b-864a-43fc-bf15-bdfef9dcb583",
   "metadata": {},
   "source": [
    "# Libraries for scientific research"
   ]
  },
  {
   "cell_type": "code",
   "execution_count": 1,
   "id": "0b868e4d-ac45-4b7b-94de-a0d1ba06cc46",
   "metadata": {},
   "outputs": [],
   "source": [
    "import numpy"
   ]
  },
  {
   "cell_type": "code",
   "execution_count": 3,
   "id": "ff91c4e4-061d-4ba3-836e-60a6b50ad1b9",
   "metadata": {},
   "outputs": [
    {
     "data": {
      "text/plain": [
       "array([[0., 0., 1., ..., 3., 0., 0.],\n",
       "       [0., 1., 2., ..., 1., 0., 1.],\n",
       "       [0., 1., 1., ..., 2., 1., 1.],\n",
       "       ...,\n",
       "       [0., 1., 1., ..., 1., 1., 1.],\n",
       "       [0., 0., 0., ..., 0., 2., 0.],\n",
       "       [0., 0., 1., ..., 1., 1., 0.]])"
      ]
     },
     "execution_count": 3,
     "metadata": {},
     "output_type": "execute_result"
    }
   ],
   "source": [
    "numpy.loadtxt(fname='data/inflammation-01.csv', delimiter=',')"
   ]
  },
  {
   "cell_type": "code",
   "execution_count": 4,
   "id": "76410c68-1bbf-4998-b282-f6c8f08ac378",
   "metadata": {},
   "outputs": [],
   "source": [
    "arthritis = numpy.loadtxt(fname='data/inflammation-01.csv', delimiter=',')"
   ]
  },
  {
   "cell_type": "code",
   "execution_count": 5,
   "id": "2f9735a2-9f6c-448b-8896-fcbe68d6a1bd",
   "metadata": {},
   "outputs": [
    {
     "name": "stdout",
     "output_type": "stream",
     "text": [
      "[[0. 0. 1. ... 3. 0. 0.]\n",
      " [0. 1. 2. ... 1. 0. 1.]\n",
      " [0. 1. 1. ... 2. 1. 1.]\n",
      " ...\n",
      " [0. 1. 1. ... 1. 1. 1.]\n",
      " [0. 0. 0. ... 0. 2. 0.]\n",
      " [0. 0. 1. ... 1. 1. 0.]]\n"
     ]
    }
   ],
   "source": [
    "print(arthritis)"
   ]
  },
  {
   "cell_type": "code",
   "execution_count": 6,
   "id": "1477ab9b-6058-4ef0-8e3f-db75bf27103b",
   "metadata": {},
   "outputs": [
    {
     "name": "stdout",
     "output_type": "stream",
     "text": [
      "<class 'numpy.ndarray'>\n"
     ]
    }
   ],
   "source": [
    "print(type(arthritis))"
   ]
  },
  {
   "cell_type": "markdown",
   "id": "1582cb53-cdf4-47d9-b109-de9c207aa569",
   "metadata": {},
   "source": [
    "## Attributes (adjectives)"
   ]
  },
  {
   "cell_type": "code",
   "execution_count": 7,
   "id": "c9a433ba-7fa5-4f36-9d6a-1b96466d9c10",
   "metadata": {},
   "outputs": [
    {
     "name": "stdout",
     "output_type": "stream",
     "text": [
      "float64\n",
      "(60, 40)\n"
     ]
    }
   ],
   "source": [
    "print(arthritis.dtype)\n",
    "print(arthritis.shape)"
   ]
  },
  {
   "cell_type": "code",
   "execution_count": 8,
   "id": "c6d6dbdd-b993-4e59-8617-5648c320bd6e",
   "metadata": {},
   "outputs": [
    {
     "name": "stdout",
     "output_type": "stream",
     "text": [
      "first value in arthritis: 0.0\n"
     ]
    }
   ],
   "source": [
    "print(\"first value in arthritis:\", arthritis[0,0])"
   ]
  },
  {
   "cell_type": "code",
   "execution_count": 9,
   "id": "3946792a-421a-4378-a600-028271b20e1e",
   "metadata": {},
   "outputs": [
    {
     "name": "stdout",
     "output_type": "stream",
     "text": [
      "middle value in arthritis: 13.0\n"
     ]
    }
   ],
   "source": [
    "print(\"middle value in arthritis:\", arthritis[30,20])"
   ]
  },
  {
   "cell_type": "code",
   "execution_count": 10,
   "id": "554044a6-c86e-4be5-bc04-bc20a06c6cdc",
   "metadata": {},
   "outputs": [
    {
     "name": "stdout",
     "output_type": "stream",
     "text": [
      "[[0. 0. 1. 3. 1. 2. 4. 7. 8. 3.]\n",
      " [0. 1. 2. 1. 2. 1. 3. 2. 2. 6.]\n",
      " [0. 1. 1. 3. 3. 2. 6. 2. 5. 9.]\n",
      " [0. 0. 2. 0. 4. 2. 2. 1. 6. 7.]]\n"
     ]
    }
   ],
   "source": [
    "print(arthritis[0:4,0:10])"
   ]
  },
  {
   "cell_type": "code",
   "execution_count": 11,
   "id": "ae01e862-2682-459c-b777-0641d5fdc75a",
   "metadata": {},
   "outputs": [
    {
     "name": "stdout",
     "output_type": "stream",
     "text": [
      "[[0. 0. 1. 2. 2. 4. 2. 1. 6. 4.]\n",
      " [0. 0. 2. 2. 4. 2. 2. 5. 5. 8.]\n",
      " [0. 0. 1. 2. 3. 1. 2. 3. 5. 3.]\n",
      " [0. 0. 0. 3. 1. 5. 6. 5. 5. 8.]\n",
      " [0. 1. 1. 2. 1. 3. 5. 3. 5. 8.]]\n"
     ]
    }
   ],
   "source": [
    "print(arthritis[5:10,0:10])"
   ]
  },
  {
   "cell_type": "code",
   "execution_count": 15,
   "id": "6232c94f-3e7a-4f78-8649-bd1f8a64fc45",
   "metadata": {},
   "outputs": [
    {
     "name": "stdout",
     "output_type": "stream",
     "text": [
      "[[2. 3. 0. 0.]\n",
      " [1. 1. 0. 1.]\n",
      " [2. 2. 1. 1.]]\n"
     ]
    }
   ],
   "source": [
    "corner = arthritis[:3, 36:]\n",
    "print(corner)"
   ]
  },
  {
   "cell_type": "markdown",
   "id": "94b36509-7dd6-49d1-b989-270288c64a24",
   "metadata": {},
   "source": [
    "## Exercise"
   ]
  },
  {
   "cell_type": "code",
   "execution_count": 16,
   "id": "b9af52e8-3369-4055-8d10-92b117fcfa4c",
   "metadata": {},
   "outputs": [
    {
     "data": {
      "text/plain": [
       "'xy'"
      ]
     },
     "execution_count": 16,
     "metadata": {},
     "output_type": "execute_result"
    }
   ],
   "source": [
    "\"oxygen\"[1:3]"
   ]
  },
  {
   "cell_type": "code",
   "execution_count": 17,
   "id": "379993cf-196a-4aab-9167-3fd44c12f428",
   "metadata": {},
   "outputs": [
    {
     "data": {
      "text/plain": [
       "'xyg'"
      ]
     },
     "execution_count": 17,
     "metadata": {},
     "output_type": "execute_result"
    }
   ],
   "source": [
    "\"oxygen\"[1:4]"
   ]
  },
  {
   "cell_type": "code",
   "execution_count": null,
   "id": "ff821e1f-cbd1-4d07-8324-aa4958efb8f9",
   "metadata": {},
   "outputs": [],
   "source": []
  }
 ],
 "metadata": {
  "kernelspec": {
   "display_name": "Python 3 (ipykernel)",
   "language": "python",
   "name": "python3"
  },
  "language_info": {
   "codemirror_mode": {
    "name": "ipython",
    "version": 3
   },
   "file_extension": ".py",
   "mimetype": "text/x-python",
   "name": "python",
   "nbconvert_exporter": "python",
   "pygments_lexer": "ipython3",
   "version": "3.9.12"
  }
 },
 "nbformat": 4,
 "nbformat_minor": 5
}
