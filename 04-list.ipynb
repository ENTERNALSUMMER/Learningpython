{
 "cells": [
  {
   "cell_type": "markdown",
   "id": "4a77afa7-ff9c-4531-9b1f-5bcbbe8b8685",
   "metadata": {},
   "source": [
    "# List"
   ]
  },
  {
   "cell_type": "code",
   "execution_count": 29,
   "id": "37708293-58e6-49bd-86ed-a42c7a4fcb52",
   "metadata": {},
   "outputs": [
    {
     "name": "stdout",
     "output_type": "stream",
     "text": [
      "Odds are: [1, 3, 5, 7]\n"
     ]
    }
   ],
   "source": [
    "odds = [1, 3, 5, 7]\n",
    "print(\"Odds are:\",odds)"
   ]
  },
  {
   "cell_type": "code",
   "execution_count": 2,
   "id": "ec185912-6eae-418a-8e7c-8f99d7022750",
   "metadata": {},
   "outputs": [
    {
     "name": "stdout",
     "output_type": "stream",
     "text": [
      "First element in the list 1\n"
     ]
    }
   ],
   "source": [
    "print(\"First element in the list\", odds[0])"
   ]
  },
  {
   "cell_type": "code",
   "execution_count": 3,
   "id": "9d401056-5e2d-4897-bb19-f5e1a9f082e9",
   "metadata": {},
   "outputs": [
    {
     "name": "stdout",
     "output_type": "stream",
     "text": [
      "Last element in the list 7\n"
     ]
    }
   ],
   "source": [
    "print(\"Last element in the list\", odds[-1])"
   ]
  },
  {
   "cell_type": "code",
   "execution_count": 8,
   "id": "2a489380-c785-497d-9f12-754ed97dbdca",
   "metadata": {},
   "outputs": [
    {
     "name": "stdout",
     "output_type": "stream",
     "text": [
      "Every second element in the list [1, 5]\n"
     ]
    }
   ],
   "source": [
    "print(\"Every second element in the list\", odds[0::2])"
   ]
  },
  {
   "cell_type": "code",
   "execution_count": 9,
   "id": "e272a1cb-0d97-4b29-a76d-6f80c3eb1080",
   "metadata": {},
   "outputs": [
    {
     "name": "stdout",
     "output_type": "stream",
     "text": [
      "name is originally ['Curie', 'Darwing', 'Turing']\n",
      "The final value of names ['Curie', 'Darwin', 'Turing']\n"
     ]
    }
   ],
   "source": [
    "names = [\"Curie\", \"Darwing\", \"Turing\"]\n",
    "print(\"name is originally\", names)\n",
    "names[1] = \"Darwin\"\n",
    "print(\"The final value of names\", names)"
   ]
  },
  {
   "cell_type": "code",
   "execution_count": 10,
   "id": "ff3f1693-b4f2-40fd-9c5e-cc4f36414105",
   "metadata": {},
   "outputs": [
    {
     "name": "stdout",
     "output_type": "stream",
     "text": [
      "First character in the name D\n"
     ]
    }
   ],
   "source": [
    "name = \"Darwin\"\n",
    "print(\"First character in the name\", name[0])"
   ]
  },
  {
   "cell_type": "code",
   "execution_count": 12,
   "id": "15df9017-20c7-4262-bf29-9d4b237b7904",
   "metadata": {},
   "outputs": [
    {
     "ename": "TypeError",
     "evalue": "'str' object does not support item assignment",
     "output_type": "error",
     "traceback": [
      "\u001b[1;31m---------------------------------------------------------------------------\u001b[0m",
      "\u001b[1;31mTypeError\u001b[0m                                 Traceback (most recent call last)",
      "Input \u001b[1;32mIn [12]\u001b[0m, in \u001b[0;36m<cell line: 1>\u001b[1;34m()\u001b[0m\n\u001b[1;32m----> 1\u001b[0m name[\u001b[38;5;241m0\u001b[39m] \u001b[38;5;241m=\u001b[39m \u001b[38;5;124m\"\u001b[39m\u001b[38;5;124md\u001b[39m\u001b[38;5;124m\"\u001b[39m\n",
      "\u001b[1;31mTypeError\u001b[0m: 'str' object does not support item assignment"
     ]
    }
   ],
   "source": [
    "name[0] = \"d\""
   ]
  },
  {
   "cell_type": "code",
   "execution_count": 13,
   "id": "3d797b5f-1a00-4c52-a0b1-c1e43ca076b4",
   "metadata": {},
   "outputs": [],
   "source": [
    "x = [\n",
    "[\"pepper\", \"courgette\", \"onion\"], \n",
    "[\"cabbage\", \"lettuce\", \"garlic\"], \n",
    "[\"apple\", \"pear\", \"banana\"]\n",
    "]"
   ]
  },
  {
   "cell_type": "code",
   "execution_count": 15,
   "id": "53d395da-261e-4954-beff-c52fe9d8e006",
   "metadata": {},
   "outputs": [
    {
     "name": "stdout",
     "output_type": "stream",
     "text": [
      "pepper\n",
      "['pepper', 'courgette', 'onion']\n"
     ]
    }
   ],
   "source": [
    "print(x[0][0])\n",
    "print(x[0])"
   ]
  },
  {
   "cell_type": "code",
   "execution_count": 16,
   "id": "9c33a4a0-7892-4109-8b52-30d8b349f694",
   "metadata": {},
   "outputs": [],
   "source": [
    "sample_ages = [10, 12.5, \"Unknown\"]"
   ]
  },
  {
   "cell_type": "code",
   "execution_count": 17,
   "id": "28fcd6da-714a-4145-8fd7-92ff8cb49a3d",
   "metadata": {},
   "outputs": [
    {
     "name": "stdout",
     "output_type": "stream",
     "text": [
      "<class 'int'>\n",
      "<class 'float'>\n",
      "<class 'str'>\n"
     ]
    }
   ],
   "source": [
    "print(type(sample_ages[0]))\n",
    "print(type(sample_ages[1]))\n",
    "print(type(sample_ages[2]))"
   ]
  },
  {
   "cell_type": "code",
   "execution_count": 30,
   "id": "9d750b77-93ce-4085-bb21-a03a46209b9d",
   "metadata": {},
   "outputs": [
    {
     "name": "stdout",
     "output_type": "stream",
     "text": [
      "[1, 3, 5, 7, 9]\n"
     ]
    }
   ],
   "source": [
    "odds.append(9)\n",
    "print(odds)"
   ]
  },
  {
   "cell_type": "code",
   "execution_count": 31,
   "id": "cfd0d67b-84e6-4f44-9e1e-483bb2702061",
   "metadata": {},
   "outputs": [
    {
     "name": "stdout",
     "output_type": "stream",
     "text": [
      "[3, 5, 7, 9]\n",
      "1\n"
     ]
    }
   ],
   "source": [
    "removed_element = odds.pop(0)\n",
    "print(odds)\n",
    "print(removed_element)"
   ]
  },
  {
   "cell_type": "code",
   "execution_count": 32,
   "id": "9467cb4a-4587-4509-ba95-e7e733b4ca65",
   "metadata": {},
   "outputs": [
    {
     "name": "stdout",
     "output_type": "stream",
     "text": [
      "[9, 7, 5, 3]\n"
     ]
    }
   ],
   "source": [
    "odds.reverse()\n",
    "print(odds)"
   ]
  },
  {
   "cell_type": "code",
   "execution_count": 45,
   "id": "fc8bb188-d48b-4f5e-9df0-c5c4efd5b93d",
   "metadata": {},
   "outputs": [
    {
     "data": {
      "text/plain": [
       "'2013'"
      ]
     },
     "execution_count": 45,
     "metadata": {},
     "output_type": "execute_result"
    }
   ],
   "source": [
    "string_for_slicing = \"observation data: 02-Feb-2013\"\n",
    "string_for_slicing[-4:]"
   ]
  },
  {
   "cell_type": "code",
   "execution_count": 50,
   "id": "02fca4ee-7dbb-4d85-a7c4-ee0fed97fec9",
   "metadata": {},
   "outputs": [
    {
     "data": {
      "text/plain": [
       "'I notpssgre ntesae'"
      ]
     },
     "execution_count": 50,
     "metadata": {},
     "output_type": "execute_result"
    }
   ],
   "source": [
    "beatles = \"In an octopus's garden in the shade\"\n",
    "beatles[::2] "
   ]
  },
  {
   "cell_type": "code",
   "execution_count": 51,
   "id": "1f21c9b2-0031-4f95-b886-d911872dc4be",
   "metadata": {},
   "outputs": [
    {
     "name": "stdout",
     "output_type": "stream",
     "text": [
      "[2, 4, 6, 8, 10, 2, 4, 6, 8, 10]\n"
     ]
    }
   ],
   "source": [
    "counts=[2,4,6,8,10]\n",
    "print(counts*2)"
   ]
  },
  {
   "cell_type": "code",
   "execution_count": null,
   "id": "c8c333f7-3164-4ea7-a349-a0831329fb5f",
   "metadata": {},
   "outputs": [],
   "source": []
  }
 ],
 "metadata": {
  "kernelspec": {
   "display_name": "Python 3 (ipykernel)",
   "language": "python",
   "name": "python3"
  },
  "language_info": {
   "codemirror_mode": {
    "name": "ipython",
    "version": 3
   },
   "file_extension": ".py",
   "mimetype": "text/x-python",
   "name": "python",
   "nbconvert_exporter": "python",
   "pygments_lexer": "ipython3",
   "version": "3.9.12"
  }
 },
 "nbformat": 4,
 "nbformat_minor": 5
}
