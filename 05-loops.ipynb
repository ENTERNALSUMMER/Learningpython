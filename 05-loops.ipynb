{
 "cells": [
  {
   "cell_type": "markdown",
   "id": "ac79bd3b-f5bb-4a96-89fc-ecf233790bb5",
   "metadata": {},
   "source": [
    "# Loops"
   ]
  },
  {
   "cell_type": "code",
   "execution_count": 1,
   "id": "7112924d-e7cb-49e3-a7f1-3a15bec66461",
   "metadata": {},
   "outputs": [],
   "source": [
    "odds = [1, 3, 5, 7]"
   ]
  },
  {
   "cell_type": "code",
   "execution_count": 6,
   "id": "032eeb92-41ba-404c-845d-b7ea4bea0746",
   "metadata": {},
   "outputs": [
    {
     "name": "stdout",
     "output_type": "stream",
     "text": [
      "1\n",
      "3\n",
      "5\n",
      "7\n"
     ]
    }
   ],
   "source": [
    "\n",
    "for i in range(4):\n",
    "    print(odds[i])\n",
    "    i=i+1"
   ]
  },
  {
   "cell_type": "code",
   "execution_count": 14,
   "id": "74427e48-d8fe-428a-9d90-b7d2d0e93676",
   "metadata": {},
   "outputs": [
    {
     "name": "stdout",
     "output_type": "stream",
     "text": [
      "1\n",
      "3\n",
      "5\n",
      "7\n",
      "9\n",
      "11\n"
     ]
    }
   ],
   "source": [
    "odds = [1, 3, 5, 7, 9, 11]\n",
    "for i in range(6):\n",
    "    print(odds[i])\n",
    "    i = i+1 "
   ]
  },
  {
   "cell_type": "code",
   "execution_count": 10,
   "id": "9f1291c4-a308-4b37-a150-96f3270b66b3",
   "metadata": {},
   "outputs": [
    {
     "name": "stdout",
     "output_type": "stream",
     "text": [
      "1\n",
      "3\n",
      "5\n",
      "7\n",
      "9\n",
      "11\n"
     ]
    }
   ],
   "source": [
    "for num in odds:\n",
    "    print(num)"
   ]
  },
  {
   "cell_type": "code",
   "execution_count": null,
   "id": "8273d175-8f73-409d-97eb-ddfcf9f75f7b",
   "metadata": {},
   "outputs": [],
   "source": [
    "for variable in sequence:\n",
    "    # do things with variable"
   ]
  },
  {
   "cell_type": "code",
   "execution_count": 16,
   "id": "a55d173d-9d76-44b9-ba50-31c1f2e6c339",
   "metadata": {},
   "outputs": [
    {
     "name": "stdout",
     "output_type": "stream",
     "text": [
      "1\n",
      "3\n",
      "5\n",
      "7\n",
      "9\n",
      "11\n"
     ]
    }
   ],
   "source": [
    "for banana in odds:\n",
    "    print(banana)"
   ]
  },
  {
   "cell_type": "code",
   "execution_count": 18,
   "id": "cdeecf5b-f6b5-44b9-87df-c7e2dc835184",
   "metadata": {},
   "outputs": [
    {
     "name": "stdout",
     "output_type": "stream",
     "text": [
      "there are 3 names in the list\n"
     ]
    }
   ],
   "source": [
    "length = 0\n",
    "names = [\"Curie\", \"Darwin\", \"Turing\"]\n",
    "for name in names:\n",
    "    #print(name)\n",
    "    length = length + 1\n",
    "print(\"there are\", length, \"names in the list\") "
   ]
  },
  {
   "cell_type": "code",
   "execution_count": 19,
   "id": "5e736da7-1c7a-4ab6-8baf-f009c020e074",
   "metadata": {},
   "outputs": [
    {
     "data": {
      "text/plain": [
       "3"
      ]
     },
     "execution_count": 19,
     "metadata": {},
     "output_type": "execute_result"
    }
   ],
   "source": [
    "len(names)"
   ]
  },
  {
   "cell_type": "code",
   "execution_count": 20,
   "id": "7dc2a805-73a3-4b22-8ab8-d5c24fd0e0f1",
   "metadata": {},
   "outputs": [
    {
     "data": {
      "text/plain": [
       "6"
      ]
     },
     "execution_count": 20,
     "metadata": {},
     "output_type": "execute_result"
    }
   ],
   "source": [
    "len(odds)"
   ]
  },
  {
   "cell_type": "code",
   "execution_count": 21,
   "id": "1b2e9f5b-1424-4c10-b753-2de2a4dd3e84",
   "metadata": {},
   "outputs": [
    {
     "name": "stdout",
     "output_type": "stream",
     "text": [
      "Curie\n",
      "Darwin\n",
      "Turing\n",
      "after loop the name is: Turing\n"
     ]
    }
   ],
   "source": [
    "name = \"Rosalind\"\n",
    "for name in names:\n",
    "    print(name)\n",
    "print(\"after loop the name is:\", name)"
   ]
  },
  {
   "cell_type": "code",
   "execution_count": 22,
   "id": "2bcdc6b8-01b3-44d6-99ed-ec9c84b03b1e",
   "metadata": {},
   "outputs": [
    {
     "name": "stdout",
     "output_type": "stream",
     "text": [
      "o\n",
      "x\n",
      "y\n",
      "g\n",
      "e\n",
      "n\n"
     ]
    }
   ],
   "source": [
    "word = 'oxygen'\n",
    "for char in word:\n",
    "    print(char)"
   ]
  },
  {
   "cell_type": "code",
   "execution_count": null,
   "id": "89e86e1c-4771-4104-9d64-ba01960bbb74",
   "metadata": {},
   "outputs": [],
   "source": []
  }
 ],
 "metadata": {
  "kernelspec": {
   "display_name": "Python 3 (ipykernel)",
   "language": "python",
   "name": "python3"
  },
  "language_info": {
   "codemirror_mode": {
    "name": "ipython",
    "version": 3
   },
   "file_extension": ".py",
   "mimetype": "text/x-python",
   "name": "python",
   "nbconvert_exporter": "python",
   "pygments_lexer": "ipython3",
   "version": "3.9.12"
  }
 },
 "nbformat": 4,
 "nbformat_minor": 5
}
